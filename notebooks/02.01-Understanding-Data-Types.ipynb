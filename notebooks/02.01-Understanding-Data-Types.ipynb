{
 "cells": [
  {
   "cell_type": "markdown",
   "metadata": {},
   "source": [
    "<!--BOOK_INFORMATION-->\n",
    "<img align=\"left\" style=\"padding-right:10px;\" src=\"figures/PDSH-cover-small.png\">\n",
    "\n",
    "*This notebook contains an excerpt from the [Python Data Science Handbook](http://shop.oreilly.com/product/0636920034919.do) by Jake VanderPlas; the content is available [on GitHub](https://github.com/jakevdp/PythonDataScienceHandbook).*\n",
    "\n",
    "*The text is released under the [CC-BY-NC-ND license](https://creativecommons.org/licenses/by-nc-nd/3.0/us/legalcode), and code is released under the [MIT license](https://opensource.org/licenses/MIT). If you find this content useful, please consider supporting the work by [buying the book](http://shop.oreilly.com/product/0636920034919.do)!*"
   ]
  },
  {
   "cell_type": "markdown",
   "metadata": {},
   "source": [
    "<!--NAVIGATION-->\n",
    "< [Introduction to NumPy](02.00-Introduction-to-NumPy.ipynb) | [Contents](Index.ipynb) | [The Basics of NumPy Arrays](02.02-The-Basics-Of-NumPy-Arrays.ipynb) >\n",
    "\n",
    "<a href=\"https://colab.research.google.com/github/jakevdp/PythonDataScienceHandbook/blob/master/notebooks/02.01-Understanding-Data-Types.ipynb\"><img align=\"left\" src=\"https://colab.research.google.com/assets/colab-badge.svg\" alt=\"Open in Colab\" title=\"Open and Execute in Google Colaboratory\"></a>\n"
   ]
  },
  {
   "cell_type": "markdown",
   "metadata": {},
   "source": [
    "# Understanding Data Types in Python"
   ]
  },
  {
   "cell_type": "markdown",
   "metadata": {},
   "source": [
    "Effective data-driven science and computation requires understanding how data is stored and manipulated.\n",
    "This section outlines and contrasts how arrays of data are handled in the Python language itself, and how NumPy improves on this.\n",
    "Understanding this difference is fundamental to understanding much of the material throughout the rest of the book.\n",
    "\n",
    "Users of Python are often drawn-in by its ease of use, one piece of which is dynamic typing.\n",
    "While a statically-typed language like C or Java requires each variable to be explicitly declared, a dynamically-typed language like Python skips this specification. For example, in C you might specify a particular operation as follows:\n",
    "\n",
    "```C\n",
    "/* C code */\n",
    "int result = 0;\n",
    "for(int i=0; i<100; i++){\n",
    "    result += i;\n",
    "}\n",
    "```\n",
    "\n",
    "While in Python the equivalent operation could be written this way:\n",
    "\n",
    "```python\n",
    "# Python code\n",
    "result = 0\n",
    "for i in range(100):\n",
    "    result += i\n",
    "```\n",
    "\n",
    "Notice the main difference: in C, the data types of each variable are explicitly declared, while in Python the types are dynamically inferred. This means, for example, that we can assign any kind of data to any variable:\n",
    "\n",
    "```python\n",
    "# Python code\n",
    "x = 4\n",
    "x = \"four\"\n",
    "```\n",
    "\n",
    "Here we've switched the contents of ``x`` from an integer to a string. The same thing in C would lead (depending on compiler settings) to a compilation error or other unintented consequences:\n",
    "\n",
    "```C\n",
    "/* C code */\n",
    "int x = 4;\n",
    "x = \"four\";  // FAILS\n",
    "```\n",
    "\n",
    "This sort of flexibility is one piece that makes Python and other dynamically-typed languages convenient and easy to use.\n",
    "Understanding *how* this works is an important piece of learning to analyze data efficiently and effectively with Python.\n",
    "But what this type-flexibility also points to is the fact that Python variables are more than just their value; they also contain extra information about the type of the value. We'll explore this more in the sections that follow."
   ]
  },
  {
   "cell_type": "markdown",
   "metadata": {},
   "source": [
    "## A Python Integer Is More Than Just an Integer\n",
    "\n",
    "The standard Python implementation is written in C.\n",
    "This means that every Python object is simply a cleverly-disguised C structure, which contains not only its value, but other information as well. For example, when we define an integer in Python, such as ``x = 10000``, ``x`` is not just a \"raw\" integer. It's actually a pointer to a compound C structure, which contains several values.\n",
    "Looking through the Python 3.4 source code, we find that the integer (long) type definition effectively looks like this (once the C macros are expanded):\n",
    "\n",
    "```C\n",
    "struct _longobject {\n",
    "    long ob_refcnt;\n",
    "    PyTypeObject *ob_type;\n",
    "    size_t ob_size;\n",
    "    long ob_digit[1];\n",
    "};\n",
    "```\n",
    "\n",
    "A single integer in Python 3.4 actually contains four pieces:\n",
    "\n",
    "- ``ob_refcnt``, a reference count that helps Python silently handle memory allocation and deallocation\n",
    "- ``ob_type``, which encodes the type of the variable\n",
    "- ``ob_size``, which specifies the size of the following data members\n",
    "- ``ob_digit``, which contains the actual integer value that we expect the Python variable to represent.\n",
    "\n",
    "This means that there is some overhead in storing an integer in Python as compared to an integer in a compiled language like C, as illustrated in the following figure:"
   ]
  },
  {
   "cell_type": "markdown",
   "metadata": {},
   "source": [
    "![Integer Memory Layout](figures/cint_vs_pyint.png)"
   ]
  },
  {
   "cell_type": "markdown",
   "metadata": {},
   "source": [
    "Here ``PyObject_HEAD`` is the part of the structure containing the reference count, type code, and other pieces mentioned before.\n",
    "\n",
    "Notice the difference here: a C integer is essentially a label for a position in memory whose bytes encode an integer value.\n",
    "A Python integer is a pointer to a position in memory containing all the Python object information, including the bytes that contain the integer value.\n",
    "This extra information in the Python integer structure is what allows Python to be coded so freely and dynamically.\n",
    "All this additional information in Python types comes at a cost, however, which becomes especially apparent in structures that combine many of these objects."
   ]
  },
  {
   "cell_type": "markdown",
   "metadata": {},
   "source": [
    "## A Python List Is More Than Just a List\n",
    "\n",
    "Let's consider now what happens when we use a Python data structure that holds many Python objects.\n",
    "The standard mutable multi-element container in Python is the list.\n",
    "We can create a list of integers as follows:"
   ]
  },
  {
   "cell_type": "code",
   "execution_count": 1,
   "metadata": {
    "collapsed": false
   },
   "outputs": [
    {
     "data": {
      "text/plain": [
       "[0, 1, 2, 3, 4, 5, 6, 7, 8, 9]"
      ]
     },
     "execution_count": 1,
     "metadata": {},
     "output_type": "execute_result"
    }
   ],
   "source": [
    "L = list(range(10))\n",
    "L"
   ]
  },
  {
   "cell_type": "code",
   "execution_count": 2,
   "metadata": {
    "collapsed": false
   },
   "outputs": [
    {
     "data": {
      "text/plain": [
       "int"
      ]
     },
     "execution_count": 2,
     "metadata": {},
     "output_type": "execute_result"
    }
   ],
   "source": [
    "type(L[0])"
   ]
  },
  {
   "cell_type": "markdown",
   "metadata": {},
   "source": [
    "Or, similarly, a list of strings:"
   ]
  },
  {
   "cell_type": "code",
   "execution_count": 3,
   "metadata": {
    "collapsed": false
   },
   "outputs": [
    {
     "data": {
      "text/plain": [
       "['0', '1', '2', '3', '4', '5', '6', '7', '8', '9']"
      ]
     },
     "execution_count": 3,
     "metadata": {},
     "output_type": "execute_result"
    }
   ],
   "source": [
    "L2 = [str(c) for c in L]\n",
    "L2"
   ]
  },
  {
   "cell_type": "code",
   "execution_count": 4,
   "metadata": {
    "collapsed": false
   },
   "outputs": [
    {
     "data": {
      "text/plain": [
       "str"
      ]
     },
     "execution_count": 4,
     "metadata": {},
     "output_type": "execute_result"
    }
   ],
   "source": [
    "type(L2[0])"
   ]
  },
  {
   "cell_type": "markdown",
   "metadata": {},
   "source": [
    "Because of Python's dynamic typing, we can even create heterogeneous lists:"
   ]
  },
  {
   "cell_type": "code",
   "execution_count": 5,
   "metadata": {
    "collapsed": false
   },
   "outputs": [
    {
     "data": {
      "text/plain": [
       "[bool, str, float, int]"
      ]
     },
     "execution_count": 5,
     "metadata": {},
     "output_type": "execute_result"
    }
   ],
   "source": [
    "L3 = [True, \"2\", 3.0, 4]\n",
    "[type(item) for item in L3]"
   ]
  },
  {
   "cell_type": "markdown",
   "metadata": {},
   "source": [
    "But this flexibility comes at a cost: to allow these flexible types, each item in the list must contain its own type info, reference count, and other information–that is, each item is a complete Python object.\n",
    "In the special case that all variables are of the same type, much of this information is redundant: it can be much more efficient to store data in a fixed-type array.\n",
    "The difference between a dynamic-type list and a fixed-type (NumPy-style) array is illustrated in the following figure:"
   ]
  },
  {
   "cell_type": "markdown",
   "metadata": {},
   "source": [
    "![Array Memory Layout](figures/array_vs_list.png)"
   ]
  },
  {
   "cell_type": "markdown",
   "metadata": {},
   "source": [
    "At the implementation level, the array essentially contains a single pointer to one contiguous block of data.\n",
    "The Python list, on the other hand, contains a pointer to a block of pointers, each of which in turn points to a full Python object like the Python integer we saw earlier.\n",
    "Again, the advantage of the list is flexibility: because each list element is a full structure containing both data and type information, the list can be filled with data of any desired type.\n",
    "Fixed-type NumPy-style arrays lack this flexibility, but are much more efficient for storing and manipulating data."
   ]
  },
  {
   "cell_type": "markdown",
   "metadata": {},
   "source": [
    "## Fixed-Type Arrays in Python\n",
    "\n",
    "Python offers several different options for storing data in efficient, fixed-type data buffers.\n",
    "The built-in ``array`` module (available since Python 3.3) can be used to create dense arrays of a uniform type:"
   ]
  },
  {
   "cell_type": "code",
   "execution_count": 6,
   "metadata": {
    "collapsed": false
   },
   "outputs": [
    {
     "data": {
      "text/plain": [
       "array('i', [0, 1, 2, 3, 4, 5, 6, 7, 8, 9])"
      ]
     },
     "execution_count": 6,
     "metadata": {},
     "output_type": "execute_result"
    }
   ],
   "source": [
    "import array\n",
    "L = list(range(10))\n",
    "A = array.array('i', L)\n",
    "A"
   ]
  },
  {
   "cell_type": "markdown",
   "metadata": {},
   "source": [
    "Here ``'i'`` is a type code indicating the contents are integers.\n",
    "\n",
    "Much more useful, however, is the ``ndarray`` object of the NumPy package.\n",
    "While Python's ``array`` object provides efficient storage of array-based data, NumPy adds to this efficient *operations* on that data.\n",
    "We will explore these operations in later sections; here we'll demonstrate several ways of creating a NumPy array.\n",
    "\n",
    "We'll start with the standard NumPy import, under the alias ``np``:"
   ]
  },
  {
   "cell_type": "code",
   "execution_count": 2,
   "metadata": {
    "collapsed": false
   },
   "outputs": [],
   "source": [
    "import numpy as np"
   ]
  },
  {
   "cell_type": "markdown",
   "metadata": {},
   "source": [
    "## Creating Arrays from Python Lists\n",
    "\n",
    "First, we can use ``np.array`` to create arrays from Python lists:"
   ]
  },
  {
   "cell_type": "code",
   "execution_count": 8,
   "metadata": {
    "collapsed": false
   },
   "outputs": [
    {
     "data": {
      "text/plain": [
       "array([1, 4, 2, 5, 3])"
      ]
     },
     "execution_count": 8,
     "metadata": {},
     "output_type": "execute_result"
    }
   ],
   "source": [
    "# integer array:\n",
    "np.array([1, 4, 2, 5, 3])"
   ]
  },
  {
   "cell_type": "markdown",
   "metadata": {},
   "source": [
    "Remember that unlike Python lists, NumPy is constrained to arrays that all contain the same type.\n",
    "If types do not match, NumPy will upcast if possible (here, integers are up-cast to floating point):"
   ]
  },
  {
   "cell_type": "code",
   "execution_count": 9,
   "metadata": {
    "collapsed": false
   },
   "outputs": [
    {
     "data": {
      "text/plain": [
       "array([ 3.14,  4.  ,  2.  ,  3.  ])"
      ]
     },
     "execution_count": 9,
     "metadata": {},
     "output_type": "execute_result"
    }
   ],
   "source": [
    "np.array([3.14, 4, 2, 3])"
   ]
  },
  {
   "cell_type": "markdown",
   "metadata": {},
   "source": [
    "If we want to explicitly set the data type of the resulting array, we can use the ``dtype`` keyword:"
   ]
  },
  {
   "cell_type": "code",
   "execution_count": 10,
   "metadata": {
    "collapsed": false
   },
   "outputs": [
    {
     "data": {
      "text/plain": [
       "array([ 1.,  2.,  3.,  4.], dtype=float32)"
      ]
     },
     "execution_count": 10,
     "metadata": {},
     "output_type": "execute_result"
    }
   ],
   "source": [
    "np.array([1, 2, 3, 4], dtype='float32')"
   ]
  },
  {
   "cell_type": "markdown",
   "metadata": {},
   "source": [
    "Finally, unlike Python lists, NumPy arrays can explicitly be multi-dimensional; here's one way of initializing a multidimensional array using a list of lists:"
   ]
  },
  {
   "cell_type": "code",
   "execution_count": 11,
   "metadata": {
    "collapsed": false
   },
   "outputs": [
    {
     "data": {
      "text/plain": [
       "array([[2, 3, 4],\n",
       "       [4, 5, 6],\n",
       "       [6, 7, 8]])"
      ]
     },
     "execution_count": 11,
     "metadata": {},
     "output_type": "execute_result"
    }
   ],
   "source": [
    "# nested lists result in multi-dimensional arrays\n",
    "np.array([range(i, i + 3) for i in [2, 4, 6]])"
   ]
  },
  {
   "cell_type": "markdown",
   "metadata": {},
   "source": [
    "The inner lists are treated as rows of the resulting two-dimensional array."
   ]
  },
  {
   "cell_type": "markdown",
   "metadata": {},
   "source": [
    "## Creating Arrays from Scratch\n",
    "\n",
    "Especially for larger arrays, it is more efficient to create arrays from scratch using routines built into NumPy.\n",
    "Here are several examples:"
   ]
  },
  {
   "cell_type": "code",
   "execution_count": 12,
   "metadata": {
    "collapsed": false
   },
   "outputs": [
    {
     "data": {
      "text/plain": [
       "array([0, 0, 0, 0, 0, 0, 0, 0, 0, 0])"
      ]
     },
     "execution_count": 12,
     "metadata": {},
     "output_type": "execute_result"
    }
   ],
   "source": [
    "# Create a length-10 integer array filled with zeros\n",
    "np.zeros(10, dtype=int)"
   ]
  },
  {
   "cell_type": "code",
   "execution_count": 13,
   "metadata": {
    "collapsed": false
   },
   "outputs": [
    {
     "data": {
      "text/plain": [
       "array([[ 1.,  1.,  1.,  1.,  1.],\n",
       "       [ 1.,  1.,  1.,  1.,  1.],\n",
       "       [ 1.,  1.,  1.,  1.,  1.]])"
      ]
     },
     "execution_count": 13,
     "metadata": {},
     "output_type": "execute_result"
    }
   ],
   "source": [
    "# Create a 3x5 floating-point array filled with ones\n",
    "np.ones((3, 5), dtype=float)"
   ]
  },
  {
   "cell_type": "code",
   "execution_count": 14,
   "metadata": {
    "collapsed": false
   },
   "outputs": [
    {
     "data": {
      "text/plain": [
       "array([[ 3.14,  3.14,  3.14,  3.14,  3.14],\n",
       "       [ 3.14,  3.14,  3.14,  3.14,  3.14],\n",
       "       [ 3.14,  3.14,  3.14,  3.14,  3.14]])"
      ]
     },
     "execution_count": 14,
     "metadata": {},
     "output_type": "execute_result"
    }
   ],
   "source": [
    "# Create a 3x5 array filled with 3.14\n",
    "np.full((3, 5), 3.14)"
   ]
  },
  {
   "cell_type": "code",
   "execution_count": 15,
   "metadata": {
    "collapsed": false
   },
   "outputs": [
    {
     "data": {
      "text/plain": [
       "array([ 0,  2,  4,  6,  8, 10, 12, 14, 16, 18])"
      ]
     },
     "execution_count": 15,
     "metadata": {},
     "output_type": "execute_result"
    }
   ],
   "source": [
    "# Create an array filled with a linear sequence\n",
    "# Starting at 0, ending at 20, stepping by 2\n",
    "# (this is similar to the built-in range() function)\n",
    "np.arange(0, 20, 2)"
   ]
  },
  {
   "cell_type": "code",
   "execution_count": 16,
   "metadata": {
    "collapsed": false
   },
   "outputs": [
    {
     "data": {
      "text/plain": [
       "array([ 0.  ,  0.25,  0.5 ,  0.75,  1.  ])"
      ]
     },
     "execution_count": 16,
     "metadata": {},
     "output_type": "execute_result"
    }
   ],
   "source": [
    "# Create an array of five values evenly spaced between 0 and 1\n",
    "np.linspace(0, 1, 5)"
   ]
  },
  {
   "cell_type": "code",
   "execution_count": 17,
   "metadata": {
    "collapsed": false
   },
   "outputs": [
    {
     "data": {
      "text/plain": [
       "array([[ 0.99844933,  0.52183819,  0.22421193],\n",
       "       [ 0.08007488,  0.45429293,  0.20941444],\n",
       "       [ 0.14360941,  0.96910973,  0.946117  ]])"
      ]
     },
     "execution_count": 17,
     "metadata": {},
     "output_type": "execute_result"
    }
   ],
   "source": [
    "# Create a 3x3 array of uniformly distributed\n",
    "# random values between 0 and 1\n",
    "np.random.random((3, 3))"
   ]
  },
  {
   "cell_type": "code",
   "execution_count": 5,
   "metadata": {
    "collapsed": false
   },
   "outputs": [
    {
     "data": {
      "text/plain": [
       "array([[-6.72856546e-01, -1.83662862e+00, -2.08509468e+00,\n",
       "        -2.78387803e+00, -1.41469319e+00, -4.26243621e+00,\n",
       "        -3.51640708e+00,  6.79983339e-02, -2.79523013e+00,\n",
       "        -9.85615204e-01, -3.37969029e+00,  1.56243692e+00,\n",
       "        -1.86886875e+00,  1.58997872e-01, -6.86267969e+00,\n",
       "         3.90225952e-01, -4.17219428e+00, -1.00300965e+00,\n",
       "        -5.05988690e+00, -2.68914089e+00, -2.72578172e+00,\n",
       "        -4.14447955e+00, -4.08539787e+00, -4.00307172e+00,\n",
       "        -2.61835339e+00,  4.46011160e+00,  1.84487884e+00,\n",
       "        -1.27626967e+00,  2.09568665e+00, -5.09205470e+00],\n",
       "       [-4.50820728e+00, -5.97699191e+00, -4.30492967e+00,\n",
       "        -2.77234271e+00, -2.11252806e+00, -2.33587917e+00,\n",
       "        -2.65882043e+00, -2.83418373e+00, -1.41822782e+00,\n",
       "        -1.59833046e+00,  2.10526029e+00, -4.80931823e-01,\n",
       "        -1.20846313e+00, -2.69630078e+00, -4.22296170e+00,\n",
       "        -4.01605982e+00, -1.67929072e+00, -1.95932508e+00,\n",
       "        -1.84355058e+00, -3.49742919e+00, -3.37247699e+00,\n",
       "        -2.96753752e+00, -1.71775876e+00, -1.34313027e-01,\n",
       "        -3.71112055e+00, -4.25462122e+00, -1.87835997e+00,\n",
       "        -3.49224701e+00, -4.55987256e+00, -2.33042300e+00],\n",
       "       [-1.57748263e+00, -1.85773653e+00, -3.65500695e+00,\n",
       "         3.53347900e-02, -3.87874030e+00, -2.79330787e+00,\n",
       "        -5.40825757e-01, -1.81844879e+00, -2.97354878e+00,\n",
       "        -5.03403404e+00, -1.89070686e+00, -2.88750088e+00,\n",
       "        -9.42762316e-01,  2.62714415e-01, -3.42169939e+00,\n",
       "        -7.96909488e-01, -1.28448826e+00,  2.77438878e-01,\n",
       "        -1.47845289e+00, -1.02963946e+00, -5.41748900e+00,\n",
       "        -2.42073349e+00, -1.61538188e+00, -1.96960863e+00,\n",
       "        -2.85407962e+00,  1.31530086e+00, -2.54265104e+00,\n",
       "        -3.11478744e+00, -3.55312831e+00,  4.13707222e-02],\n",
       "       [-2.61472454e-01, -1.49102881e+00,  7.51423250e-01,\n",
       "        -4.34767659e+00, -5.72211857e-01,  4.74275221e+00,\n",
       "        -5.03942650e+00,  2.52185959e+00, -4.18070941e+00,\n",
       "        -1.77987672e+00,  1.61302390e+00, -2.54067431e+00,\n",
       "        -1.00764006e+00, -1.80744451e-01, -3.88806919e+00,\n",
       "        -3.14999318e+00, -9.58946125e-01, -2.81432871e+00,\n",
       "        -2.82318054e+00, -1.70404482e+00, -2.43842683e+00,\n",
       "        -2.91654276e+00, -3.85038216e+00, -1.91015635e+00,\n",
       "        -1.51177504e+00, -4.09363384e-01, -1.53293609e+00,\n",
       "        -2.18598093e+00, -1.73786264e+00, -2.20311972e+00],\n",
       "       [-3.47117329e+00,  1.40180477e+00,  7.98116677e-01,\n",
       "        -8.22104268e-01, -2.78051469e+00, -3.18538376e+00,\n",
       "        -2.46892452e+00, -2.99438173e+00, -2.33931040e+00,\n",
       "        -3.40503032e+00, -2.64995631e+00,  2.08955284e+00,\n",
       "        -1.79585022e+00,  1.04235401e+00,  3.62516219e-01,\n",
       "         1.88452275e+00, -1.37217809e-01, -7.61759378e-01,\n",
       "        -4.98768499e+00, -1.10276995e+00, -3.87924338e+00,\n",
       "        -3.23286661e+00, -3.35758293e+00, -4.45893789e-01,\n",
       "        -3.14465669e+00, -3.17804631e+00, -1.24242648e+00,\n",
       "         2.43795205e-01, -4.86870070e-01, -4.87229151e+00],\n",
       "       [-6.67378446e+00,  1.35429548e+00, -3.33369398e+00,\n",
       "         1.15193162e+00, -4.74387559e+00, -6.66729394e+00,\n",
       "        -4.06277160e+00, -3.01645287e+00, -1.43239679e+00,\n",
       "        -3.00792183e+00, -4.07118169e+00, -1.53078448e+00,\n",
       "        -1.54803467e+00, -5.93071104e-01, -1.50857061e+00,\n",
       "        -3.74542997e+00, -5.39593264e+00, -1.67970380e+00,\n",
       "        -2.29838053e+00, -3.34414839e-01, -1.11865269e+00,\n",
       "        -1.34683910e+00, -1.24853651e+00, -5.10167799e+00,\n",
       "        -3.38455469e+00, -4.27985725e+00,  1.12638373e+00,\n",
       "        -2.35872383e+00, -3.17248857e+00, -2.65727584e+00],\n",
       "       [-2.02169432e-01, -3.48937052e+00, -4.60394209e+00,\n",
       "        -4.98049820e+00, -2.21388196e+00, -1.42304574e+00,\n",
       "         1.19533144e+00, -4.61308805e+00, -1.51124376e+00,\n",
       "        -1.50965484e+00,  2.37935105e+00, -4.90787098e+00,\n",
       "        -1.42133418e+00, -2.69029291e+00,  4.14453733e-02,\n",
       "         1.50588892e+00, -4.84735082e+00, -2.27474401e+00,\n",
       "        -4.72897696e-01, -1.34808831e+00, -4.02399075e+00,\n",
       "        -1.27586329e-02, -3.14689674e+00, -2.19672991e+00,\n",
       "        -1.64363681e+00, -4.56350797e+00, -3.06096014e+00,\n",
       "        -4.46196387e-01, -2.95069472e+00, -2.25383525e+00],\n",
       "       [-3.54529611e+00, -2.85323812e+00, -2.29427385e+00,\n",
       "        -1.26000270e+00, -9.55879743e-01, -1.76291159e+00,\n",
       "        -2.19872730e+00, -2.07599588e-01, -3.33239262e+00,\n",
       "        -1.06476581e+00, -3.29471103e-01, -8.81370405e-01,\n",
       "        -2.23274284e+00, -4.44901124e-01,  1.40989412e+00,\n",
       "        -2.49447342e+00, -2.27584635e+00, -1.98155486e+00,\n",
       "        -5.74453818e+00, -1.81311679e-02,  7.99212061e-02,\n",
       "        -3.25938844e+00,  3.83277757e-01, -1.70338734e-01,\n",
       "        -1.98832464e+00, -7.48440103e-01, -2.49446282e+00,\n",
       "        -2.94809266e+00, -1.92192422e+00, -3.38137212e+00],\n",
       "       [-9.10902585e-01, -6.72502904e+00, -1.92820376e+00,\n",
       "        -3.02807433e+00, -4.40911171e+00, -1.95126750e+00,\n",
       "        -2.08238965e+00, -3.05488572e+00, -3.30472899e+00,\n",
       "        -4.72361069e+00, -2.14168610e+00, -2.78155305e+00,\n",
       "         7.00077420e-01, -2.26484054e+00,  1.75325470e+00,\n",
       "        -2.95244420e+00, -4.41141531e-01,  1.04870808e+00,\n",
       "        -4.77602993e+00, -6.37819518e-01, -6.09566930e-01,\n",
       "         2.57790001e+00, -4.98541235e+00, -1.90661102e+00,\n",
       "        -1.18331289e+00, -5.11153997e+00, -4.08251547e-01,\n",
       "        -2.19955783e+00, -4.71343086e+00, -9.59527403e-01],\n",
       "       [-2.06958922e+00, -4.47213003e+00, -5.63443184e+00,\n",
       "        -3.83385877e+00,  7.60559231e-01, -2.47075582e+00,\n",
       "        -1.29954126e+00, -3.33685496e+00, -4.61047673e+00,\n",
       "        -1.94393648e+00, -2.45610030e+00, -3.43546735e+00,\n",
       "         7.70239981e-01, -1.27424732e+00, -5.35943881e+00,\n",
       "        -2.72878565e+00,  2.63195954e-01, -3.54280539e-01,\n",
       "         1.47365533e+00,  2.72277424e+00, -1.40701762e+00,\n",
       "         8.15167000e-01, -1.50191304e+00, -1.94057707e+00,\n",
       "         4.34872554e-01, -1.99962289e+00, -1.26476509e+00,\n",
       "        -1.91785885e-01,  8.39082850e-01, -6.24769812e-01],\n",
       "       [ 2.21068686e-01, -4.28062769e+00,  4.79818213e-01,\n",
       "        -2.67488856e+00, -3.51419297e-01, -2.65239230e+00,\n",
       "        -4.40378566e-01, -2.19234943e+00, -5.00131362e+00,\n",
       "        -3.90097255e+00, -2.82399488e+00, -3.17096887e+00,\n",
       "         1.67245374e+00, -2.70186131e+00, -2.34592859e+00,\n",
       "        -3.74085139e+00, -2.57768223e+00, -1.01968039e+00,\n",
       "        -4.73391531e-03, -3.18094670e+00,  9.71945798e-01,\n",
       "        -2.88287111e+00, -1.22272290e-01, -1.52170877e+00,\n",
       "        -1.71386511e+00, -2.23430597e+00, -4.06304742e+00,\n",
       "        -4.81554350e+00,  1.97840714e-01, -3.06221440e+00],\n",
       "       [ 5.52655821e-01, -9.69229556e-01, -2.92711999e+00,\n",
       "         5.90739205e-01,  1.36982020e+00, -1.00997711e+00,\n",
       "         3.91095092e+00, -5.14186387e+00,  2.65504665e+00,\n",
       "        -2.57091834e+00, -2.67098932e+00, -8.94798227e-01,\n",
       "        -2.97491143e+00,  2.31542512e+00, -7.97391376e+00,\n",
       "        -2.66996812e+00,  7.07953576e-01, -7.22322224e-01,\n",
       "        -1.56811681e+00, -1.51016676e+00, -1.71575400e+00,\n",
       "        -5.05240855e+00,  2.31129869e+00,  4.54113925e-01,\n",
       "        -2.77733278e+00, -2.56516754e+00, -7.32997098e+00,\n",
       "        -1.44637773e+00, -2.76286308e+00, -4.32572302e+00],\n",
       "       [-2.91276467e+00, -3.47388758e+00, -7.83303207e-01,\n",
       "         1.03475499e+00, -1.08908028e+00,  2.72946192e-01,\n",
       "        -1.32735854e+00, -3.10286351e+00, -1.56794957e-01,\n",
       "        -9.89676029e-01, -5.48751266e+00,  1.39378010e+00,\n",
       "         4.02036974e-01,  2.09991080e+00, -2.72022022e+00,\n",
       "        -1.10630109e+00, -4.46424021e+00, -1.96841675e+00,\n",
       "        -4.90884297e+00,  2.75315481e-01, -2.29003481e+00,\n",
       "        -3.98639459e+00, -1.13217857e+00, -1.76007830e+00,\n",
       "        -3.85586821e-01,  2.93331673e-01, -4.49500330e+00,\n",
       "        -2.44832447e+00, -1.16131993e+00,  2.10716221e-01],\n",
       "       [-3.75373563e-01, -3.66259241e+00, -1.07570122e+00,\n",
       "        -1.25682481e+00, -2.70075773e+00, -3.80893598e+00,\n",
       "         2.14662294e+00, -1.35260072e+00, -2.70084107e+00,\n",
       "        -2.08350063e+00, -3.03748269e+00, -1.32930427e+00,\n",
       "        -5.82876476e+00, -1.91071442e+00, -2.91796570e+00,\n",
       "        -9.67190917e-02, -1.19452067e+00, -3.31018961e-01,\n",
       "        -2.31865522e+00,  3.42633985e-01, -2.18971851e+00,\n",
       "         1.10668376e+00, -2.31938644e+00, -2.45163229e+00,\n",
       "        -9.91605051e-01, -2.93985268e+00, -1.24765341e+00,\n",
       "        -1.54206063e+00, -8.51743297e-01, -2.42870967e+00],\n",
       "       [ 4.55301278e+00, -3.95010342e+00, -2.42400826e+00,\n",
       "        -5.30906992e+00, -3.78309759e+00, -4.69800591e+00,\n",
       "        -6.44211327e-01, -2.52136946e+00,  7.63445580e-02,\n",
       "        -9.62112852e-01, -2.80937318e+00, -2.07810029e+00,\n",
       "         3.24434980e-01, -1.78779539e+00, -2.57289258e+00,\n",
       "        -3.11903452e+00, -2.81487898e+00, -8.27228085e-01,\n",
       "        -2.29336598e+00, -2.02500101e+00, -1.85563917e+00,\n",
       "        -2.75797626e+00, -1.37398211e+00, -2.60683543e-01,\n",
       "        -8.68809041e-01, -2.92860214e+00, -2.22003305e+00,\n",
       "        -5.20491437e+00, -2.35670211e+00, -3.12807026e+00],\n",
       "       [ 2.09801705e+00, -1.58906678e+00, -3.94560195e+00,\n",
       "        -1.06776833e+00,  9.92172158e-01, -2.24782931e+00,\n",
       "        -2.87007398e+00, -2.00503384e+00, -7.04909489e+00,\n",
       "        -3.28776463e+00, -2.90741455e+00, -2.05569729e-01,\n",
       "        -3.60168041e+00, -2.53580523e+00, -2.59326244e+00,\n",
       "        -1.69620054e+00, -1.26591298e+00,  1.46230097e+00,\n",
       "        -4.35483056e+00, -2.64078297e+00, -4.56726196e+00,\n",
       "        -2.28922412e-01, -3.29684627e+00, -2.73666916e+00,\n",
       "        -7.97304143e-01, -9.74649992e-01, -3.87325225e+00,\n",
       "         2.31260974e-01, -1.62059355e+00, -2.85530897e+00],\n",
       "       [-3.67848626e+00, -1.33184963e+00, -2.62998441e+00,\n",
       "        -2.06724761e+00, -3.65348208e+00, -2.08016936e+00,\n",
       "        -2.99962288e+00, -1.78586192e+00, -3.65114056e+00,\n",
       "        -4.34545065e+00, -3.42044941e+00, -1.74044791e+00,\n",
       "        -1.48488862e+00, -6.47898804e-01, -1.59140633e-01,\n",
       "        -4.63884147e-02, -2.28399059e+00, -2.58112219e+00,\n",
       "        -5.82229514e+00,  2.35032398e-01, -3.58926096e+00,\n",
       "        -2.30713588e-02, -1.28088558e+00, -5.25143891e-01,\n",
       "        -2.89513533e+00, -4.02717453e+00, -9.20475771e-02,\n",
       "        -2.84719637e+00, -3.11572016e+00, -1.64432268e+00],\n",
       "       [-3.67908010e-01, -7.89813540e-01, -4.01823796e+00,\n",
       "         1.01739344e+00, -2.36466591e+00, -1.30309534e+00,\n",
       "         2.48415404e-01, -4.43498142e+00, -2.19221860e+00,\n",
       "        -2.78560909e+00, -3.19892282e+00, -1.86189050e+00,\n",
       "        -2.85217230e+00, -3.07749030e+00, -2.87812862e+00,\n",
       "        -1.86160979e+00, -2.31436330e+00, -3.38752339e+00,\n",
       "        -3.28974924e+00, -1.72884909e+00, -1.27827939e+00,\n",
       "         1.02441219e+00,  1.95643624e+00,  6.53109165e-01,\n",
       "        -2.18542721e+00, -1.70844210e+00,  2.58936395e+00,\n",
       "        -1.66026986e+00, -2.52628536e+00, -4.20845110e+00],\n",
       "       [-1.41616125e+00, -5.04800165e+00, -2.24139994e+00,\n",
       "        -1.05979688e+00, -5.73784935e-01, -2.46715425e+00,\n",
       "        -2.59228841e+00,  3.37487125e+00, -1.30346926e+00,\n",
       "        -1.63784186e+00, -3.82327989e+00, -1.95496942e-01,\n",
       "        -2.42495419e+00, -1.42710431e+00, -6.11965184e-01,\n",
       "        -4.00435004e+00, -1.01380041e+00, -2.89810223e+00,\n",
       "         2.02290401e+00, -4.68745292e+00, -6.84764286e-01,\n",
       "        -5.23115856e+00, -2.83793988e+00, -1.20514285e-01,\n",
       "         3.17904251e+00, -2.81689078e+00, -2.90894264e+00,\n",
       "        -2.69782368e+00, -2.12199610e+00, -6.05903679e+00],\n",
       "       [ 2.32645755e+00, -2.51450336e+00,  6.75481323e-01,\n",
       "        -1.90002219e+00, -7.51436261e-01, -3.01924246e+00,\n",
       "        -8.22066580e-01, -1.90125029e+00, -1.49450671e+00,\n",
       "         1.65685032e+00, -9.49818386e-01, -3.15434882e+00,\n",
       "        -2.91490126e+00, -3.64846452e+00, -1.85653848e+00,\n",
       "        -5.81204225e+00, -2.67908475e+00, -1.95126963e+00,\n",
       "        -5.43747386e-01, -1.61291021e+00, -1.68448116e+00,\n",
       "        -5.10880854e+00, -2.86622768e+00, -1.01107278e+00,\n",
       "        -4.01674886e+00, -3.57093452e+00, -2.64494296e+00,\n",
       "        -5.23870804e+00,  3.55183378e-01, -1.07428722e+00],\n",
       "       [-4.35203533e+00,  1.11360634e+00, -1.84852086e+00,\n",
       "        -3.80395752e+00, -2.83896372e+00, -6.54603449e+00,\n",
       "        -1.56699391e+00, -4.35031337e+00,  7.99372468e-01,\n",
       "        -1.76629890e+00, -5.57244713e-01, -3.31015429e+00,\n",
       "        -1.60585404e+00, -1.04661085e+00, -2.81878292e+00,\n",
       "        -3.23319252e+00,  7.61391316e-02,  6.47408500e-01,\n",
       "        -2.25948923e+00, -5.62183821e+00, -8.87567082e-01,\n",
       "        -4.04200422e+00, -2.38893395e+00, -1.32189003e+00,\n",
       "        -2.99117769e+00, -2.94363840e+00, -1.14587652e+00,\n",
       "        -6.41865643e+00, -1.87698151e+00,  7.57534100e-01],\n",
       "       [-1.75840792e+00, -3.20612804e+00, -8.15780370e-01,\n",
       "         1.49130056e-01,  1.16823262e+00, -3.56975251e+00,\n",
       "         1.17354233e+00, -3.72182914e+00,  1.64486555e+00,\n",
       "        -1.36189565e-01, -2.51804953e-01, -1.89315561e+00,\n",
       "        -2.53362039e+00, -2.24005342e+00, -1.91208952e+00,\n",
       "         9.46407717e-02, -2.08110152e+00, -2.19570407e+00,\n",
       "        -4.06199947e+00,  1.06590193e+00, -3.16616384e+00,\n",
       "        -4.31635697e+00, -5.17953886e-01, -6.84934901e-01,\n",
       "        -8.82206451e-01, -1.17321648e+00, -4.32299564e+00,\n",
       "        -5.66928450e-01, -4.73156607e+00, -3.79842423e+00],\n",
       "       [ 5.48512222e-01, -2.58614407e+00, -6.31317021e-01,\n",
       "        -3.68294434e+00, -1.26187649e+00, -5.34906323e+00,\n",
       "        -3.37977336e+00, -1.45926528e-01,  1.03449768e+00,\n",
       "        -1.24878768e+00, -4.39075708e+00, -3.86416119e+00,\n",
       "        -2.20841237e+00,  1.84870955e+00, -1.20174540e-01,\n",
       "        -4.27969929e+00, -1.24414213e+00,  4.04201686e-01,\n",
       "        -2.78574843e+00, -1.08211827e+00,  9.78662095e-01,\n",
       "        -3.35328843e+00,  1.05012907e+00, -1.58927977e+00,\n",
       "        -2.01970942e+00, -2.60631471e+00, -1.54750824e-01,\n",
       "        -3.27096995e+00,  1.97570122e-01, -1.07515471e+00],\n",
       "       [ 1.78319455e+00, -4.63247154e+00, -2.57856830e+00,\n",
       "        -1.37630120e+00, -2.45537267e+00,  1.19587270e+00,\n",
       "        -4.85041235e+00, -4.99857761e-02, -4.01574459e+00,\n",
       "        -2.26475094e+00,  2.60553624e-01, -2.44920741e+00,\n",
       "        -2.04083271e+00, -3.36528877e+00, -6.55916073e-01,\n",
       "        -8.20892483e-01, -2.17533116e+00,  2.43120479e+00,\n",
       "        -9.08380593e-01, -2.46716579e+00, -8.55005142e-01,\n",
       "        -1.36831463e+00, -1.07083088e+00, -3.32753027e-01,\n",
       "        -1.76639398e+00, -4.72059531e+00, -2.43781565e+00,\n",
       "        -4.48801882e-01, -1.24795930e+00,  3.29884490e+00],\n",
       "       [-1.51282599e-01, -2.02667799e+00, -2.39352741e+00,\n",
       "        -2.97242006e+00, -4.85916856e+00,  9.78174757e-01,\n",
       "        -6.90635303e-01, -3.54849326e+00,  1.58230416e+00,\n",
       "        -3.51311009e+00, -3.05264412e+00, -6.85765561e+00,\n",
       "        -2.75242837e+00, -1.95786819e+00, -5.11707352e+00,\n",
       "        -5.01753211e+00, -1.00831953e-01,  1.83122829e-01,\n",
       "        -5.79878327e-01, -2.42273910e+00, -5.21323197e+00,\n",
       "         2.68341114e-01, -4.11618281e+00, -3.44180628e+00,\n",
       "        -2.16267539e+00, -1.49740725e+00, -1.62532867e+00,\n",
       "        -2.48625961e+00, -1.74267051e+00, -4.97939187e+00],\n",
       "       [-1.98293347e+00, -2.23105448e+00,  4.92766120e-01,\n",
       "        -3.15283763e+00,  1.45904674e+00, -2.19001044e+00,\n",
       "        -2.18412826e+00, -4.60429059e-02, -2.65771530e+00,\n",
       "        -3.41017194e+00,  6.43868889e-01,  1.73915306e+00,\n",
       "        -1.13422613e+00, -1.10211098e+00, -4.61435374e+00,\n",
       "         9.40692852e-01, -2.15219242e+00, -3.56295732e+00,\n",
       "         3.19149111e-01,  5.55081391e-01, -1.34518094e+00,\n",
       "        -3.21414158e+00, -5.59180653e-01, -3.78044172e+00,\n",
       "        -4.16242000e+00, -5.83651696e+00, -2.33882558e+00,\n",
       "        -3.80030380e+00, -1.98710257e+00,  6.78614744e-01],\n",
       "       [ 1.44603410e-01, -1.68335564e+00, -4.65905391e+00,\n",
       "        -2.37422693e+00, -1.99416198e+00,  7.22426150e-01,\n",
       "        -4.56490799e+00, -2.51278304e+00, -2.07564221e+00,\n",
       "        -2.38559059e+00, -2.67197674e+00, -1.76032715e+00,\n",
       "        -1.66419812e+00, -2.10217059e+00, -1.34244832e+00,\n",
       "        -5.75868707e+00,  3.56094767e+00,  5.14789773e-01,\n",
       "         2.60734347e-01, -2.98055757e+00, -3.79303615e+00,\n",
       "         1.81871661e-01, -2.88133005e+00, -2.19158813e+00,\n",
       "        -2.36199923e+00, -3.75835886e+00, -4.08887902e+00,\n",
       "        -4.14396906e+00, -2.97148529e+00, -2.44324647e+00],\n",
       "       [-1.77430470e+00,  2.87363351e+00,  6.50403137e-01,\n",
       "        -1.81867022e+00, -5.32513208e+00, -6.58341961e-01,\n",
       "        -7.79979939e-01, -3.68529891e+00, -6.00426997e+00,\n",
       "         1.20701646e+00, -9.93283769e-01, -2.07185122e+00,\n",
       "        -2.16931446e+00, -5.08889535e+00, -2.67314231e+00,\n",
       "        -1.85960291e+00, -3.41164058e+00, -3.61676989e+00,\n",
       "        -2.30753481e+00, -7.82602180e-01, -3.15339195e+00,\n",
       "        -7.22968765e-01, -2.73837613e+00, -3.99686126e+00,\n",
       "        -8.56440094e-01, -5.40588136e+00, -1.59215716e+00,\n",
       "        -1.17493561e+00,  1.12970723e+00, -2.83245330e+00],\n",
       "       [-5.91266128e+00, -3.64519422e+00,  1.07960683e+00,\n",
       "        -3.05889424e+00, -7.61574819e-01,  1.03380916e+00,\n",
       "        -5.20966895e-01, -1.48730678e+00, -4.17222598e+00,\n",
       "        -1.30959937e+00, -2.00494094e+00, -2.11974963e+00,\n",
       "        -2.46683988e+00, -2.28550961e+00, -5.90003893e+00,\n",
       "         1.87730233e+00, -3.12037159e+00, -7.41386650e-01,\n",
       "         6.88444672e-01, -1.51147774e+00, -6.88248273e-01,\n",
       "        -2.90351384e+00, -4.19242356e+00, -2.72328688e+00,\n",
       "        -3.33946404e+00, -1.75408019e+00, -2.81696271e+00,\n",
       "        -3.46401803e+00, -1.43169792e+00, -2.58368024e+00],\n",
       "       [-4.77929417e-01, -2.29756513e+00,  7.03032298e-01,\n",
       "        -1.16731991e+00, -9.88597814e-01,  2.74878905e-01,\n",
       "        -2.96654431e-01, -4.04460659e+00, -2.41605495e+00,\n",
       "         3.81416579e-01, -2.67417749e+00, -4.33027191e+00,\n",
       "        -9.45457898e-01, -3.25661637e-03, -2.00825606e+00,\n",
       "        -5.93159539e+00, -6.23555241e-01, -1.29432283e+00,\n",
       "        -3.68767557e+00, -2.87995743e+00, -5.39588493e-02,\n",
       "        -5.12682811e+00, -5.64512143e-01, -1.17938388e+00,\n",
       "        -4.13984933e+00, -2.13260532e+00, -1.20035813e+00,\n",
       "         1.71767454e-01, -2.74322293e+00, -8.81867428e-01]])"
      ]
     },
     "execution_count": 5,
     "metadata": {},
     "output_type": "execute_result"
    }
   ],
   "source": [
    "# Create a 3x3 array of normally distributed random values\n",
    "# with mean 0 and standard deviation 1\n",
    "np.random.normal(-2, 2, (30, 30))"
   ]
  },
  {
   "cell_type": "code",
   "execution_count": 19,
   "metadata": {
    "collapsed": false
   },
   "outputs": [
    {
     "data": {
      "text/plain": [
       "array([[2, 3, 4],\n",
       "       [5, 7, 8],\n",
       "       [0, 5, 0]])"
      ]
     },
     "execution_count": 19,
     "metadata": {},
     "output_type": "execute_result"
    }
   ],
   "source": [
    "# Create a 3x3 array of random integers in the interval [0, 10)\n",
    "np.random.randint(0, 10, (3, 3))"
   ]
  },
  {
   "cell_type": "code",
   "execution_count": 20,
   "metadata": {
    "collapsed": false
   },
   "outputs": [
    {
     "data": {
      "text/plain": [
       "array([[ 1.,  0.,  0.],\n",
       "       [ 0.,  1.,  0.],\n",
       "       [ 0.,  0.,  1.]])"
      ]
     },
     "execution_count": 20,
     "metadata": {},
     "output_type": "execute_result"
    }
   ],
   "source": [
    "# Create a 3x3 identity matrix\n",
    "np.eye(3)"
   ]
  },
  {
   "cell_type": "code",
   "execution_count": 21,
   "metadata": {
    "collapsed": false
   },
   "outputs": [
    {
     "data": {
      "text/plain": [
       "array([ 1.,  1.,  1.])"
      ]
     },
     "execution_count": 21,
     "metadata": {},
     "output_type": "execute_result"
    }
   ],
   "source": [
    "# Create an uninitialized array of three integers\n",
    "# The values will be whatever happens to already exist at that memory location\n",
    "np.empty(3)"
   ]
  },
  {
   "cell_type": "markdown",
   "metadata": {},
   "source": [
    "## NumPy Standard Data Types\n",
    "\n",
    "NumPy arrays contain values of a single type, so it is important to have detailed knowledge of those types and their limitations.\n",
    "Because NumPy is built in C, the types will be familiar to users of C, Fortran, and other related languages.\n",
    "\n",
    "The standard NumPy data types are listed in the following table.\n",
    "Note that when constructing an array, they can be specified using a string:\n",
    "\n",
    "```python\n",
    "np.zeros(10, dtype='int16')\n",
    "```\n",
    "\n",
    "Or using the associated NumPy object:\n",
    "\n",
    "```python\n",
    "np.zeros(10, dtype=np.int16)\n",
    "```"
   ]
  },
  {
   "cell_type": "markdown",
   "metadata": {},
   "source": [
    "| Data type\t    | Description |\n",
    "|---------------|-------------|\n",
    "| ``bool_``     | Boolean (True or False) stored as a byte |\n",
    "| ``int_``      | Default integer type (same as C ``long``; normally either ``int64`` or ``int32``)| \n",
    "| ``intc``      | Identical to C ``int`` (normally ``int32`` or ``int64``)| \n",
    "| ``intp``      | Integer used for indexing (same as C ``ssize_t``; normally either ``int32`` or ``int64``)| \n",
    "| ``int8``      | Byte (-128 to 127)| \n",
    "| ``int16``     | Integer (-32768 to 32767)|\n",
    "| ``int32``     | Integer (-2147483648 to 2147483647)|\n",
    "| ``int64``     | Integer (-9223372036854775808 to 9223372036854775807)| \n",
    "| ``uint8``     | Unsigned integer (0 to 255)| \n",
    "| ``uint16``    | Unsigned integer (0 to 65535)| \n",
    "| ``uint32``    | Unsigned integer (0 to 4294967295)| \n",
    "| ``uint64``    | Unsigned integer (0 to 18446744073709551615)| \n",
    "| ``float_``    | Shorthand for ``float64``.| \n",
    "| ``float16``   | Half precision float: sign bit, 5 bits exponent, 10 bits mantissa| \n",
    "| ``float32``   | Single precision float: sign bit, 8 bits exponent, 23 bits mantissa| \n",
    "| ``float64``   | Double precision float: sign bit, 11 bits exponent, 52 bits mantissa| \n",
    "| ``complex_``  | Shorthand for ``complex128``.| \n",
    "| ``complex64`` | Complex number, represented by two 32-bit floats| \n",
    "| ``complex128``| Complex number, represented by two 64-bit floats| "
   ]
  },
  {
   "cell_type": "markdown",
   "metadata": {},
   "source": [
    "More advanced type specification is possible, such as specifying big or little endian numbers; for more information, refer to the [NumPy documentation](http://numpy.org/).\n",
    "NumPy also supports compound data types, which will be covered in [Structured Data: NumPy's Structured Arrays](02.09-Structured-Data-NumPy.ipynb)."
   ]
  },
  {
   "cell_type": "markdown",
   "metadata": {},
   "source": [
    "<!--NAVIGATION-->\n",
    "< [Introduction to NumPy](02.00-Introduction-to-NumPy.ipynb) | [Contents](Index.ipynb) | [The Basics of NumPy Arrays](02.02-The-Basics-Of-NumPy-Arrays.ipynb) >\n",
    "\n",
    "<a href=\"https://colab.research.google.com/github/jakevdp/PythonDataScienceHandbook/blob/master/notebooks/02.01-Understanding-Data-Types.ipynb\"><img align=\"left\" src=\"https://colab.research.google.com/assets/colab-badge.svg\" alt=\"Open in Colab\" title=\"Open and Execute in Google Colaboratory\"></a>\n"
   ]
  }
 ],
 "metadata": {
  "anaconda-cloud": {},
  "kernelspec": {
   "display_name": "Python 3",
   "language": "python",
   "name": "python3"
  },
  "language_info": {
   "codemirror_mode": {
    "name": "ipython",
    "version": 3
   },
   "file_extension": ".py",
   "mimetype": "text/x-python",
   "name": "python",
   "nbconvert_exporter": "python",
   "pygments_lexer": "ipython3",
   "version": "3.7.3"
  }
 },
 "nbformat": 4,
 "nbformat_minor": 2
}
